{
 "cells": [
  {
   "cell_type": "markdown",
   "id": "68d14b03-7261-4606-9f7b-b063f5022f3e",
   "metadata": {},
   "source": [
    "# OCR for extracting specific information"
   ]
  },
  {
   "cell_type": "code",
   "execution_count": 1,
   "id": "1ea09cee-17e9-4c7b-ac4d-e892ee1605fc",
   "metadata": {},
   "outputs": [],
   "source": [
    "import cv2\n",
    "\n",
    "def preprocess_image(image_path):\n",
    "    # Read the image\n",
    "    image = cv2.imread(image_path)\n",
    "    \n",
    "    # Convert to grayscale\n",
    "    gray = cv2.cvtColor(image, cv2.COLOR_BGR2GRAY)\n",
    "    \n",
    "    # Apply noise reduction\n",
    "    noise_reduced = cv2.fastNlMeansDenoising(gray, None, 30, 7, 21)\n",
    "    \n",
    "    # Apply thresholding\n",
    "    _, thresholded = cv2.threshold(noise_reduced, 0, 255, cv2.THRESH_BINARY + cv2.THRESH_OTSU)\n",
    "    \n",
    "    return thresholded\n"
   ]
  },
  {
   "cell_type": "code",
   "execution_count": 2,
   "id": "14592254-dc2a-4c1b-bb60-9d3899cbaa1a",
   "metadata": {},
   "outputs": [],
   "source": [
    "import pytesseract\n",
    "\n",
    "def extract_text_tesseract(image):\n",
    "    text = pytesseract.image_to_string(image)\n",
    "    return text\n"
   ]
  },
  {
   "cell_type": "code",
   "execution_count": 5,
   "id": "59ea5e95-31dd-4cf2-a9ba-0dca4a7e97ef",
   "metadata": {},
   "outputs": [],
   "source": [
    "import easyocr\n",
    "\n",
    "def extract_text_easyocr(image_path):\n",
    "    reader = easyocr.Reader(['en'])\n",
    "    result = reader.readtext(image_path)\n",
    "    text = \" \".join([res[1] for res in result])\n",
    "    return text\n"
   ]
  },
  {
   "cell_type": "code",
   "execution_count": 7,
   "id": "b23f72d1-c2a7-41be-880a-5422cda76de1",
   "metadata": {},
   "outputs": [],
   "source": [
    "import re\n",
    "\n",
    "def extract_dates_and_mrp(text):\n",
    "    # Define regex patterns for different date formats\n",
    "    date_pattern = r'\\b(\\d{1,2}[/-]\\d{1,2}[/-]\\d{2,4})\\b'\n",
    "    \n",
    "    # Define regex patterns for MRP formats\n",
    "    mrp_pattern = r'\\b(?:Rs\\.|mrp:|/-)\\s*[0-9]+(?:\\.[0-9]{1,2})?\\b'\n",
    "    \n",
    "    # Find all date and MRP matches in the text\n",
    "    dates = re.findall(date_pattern, text, re.IGNORECASE)\n",
    "    mrp = re.findall(mrp_pattern, text, re.IGNORECASE)\n",
    "    \n",
    "    # Initialize variables for identified dates\n",
    "    expiry_date = None\n",
    "    manufactured_date = None\n",
    "    \n",
    "    # Identify context for dates\n",
    "    lines = text.split('\\n')\n",
    "    for line in lines:\n",
    "        if any(keyword in line.lower() for keyword in ['exp', 'Exp Date', 'BEST BEFORE']):\n",
    "            expiry_date_matches = re.findall(date_pattern, line, re.IGNORECASE)\n",
    "            if expiry_date_matches:\n",
    "                expiry_date = expiry_date_matches[0]\n",
    "        if any(keyword in line.lower() for keyword in ['mfd', 'Nfg Date', 'mfg.date']):\n",
    "            manufactured_date_matches = re.findall(date_pattern, line, re.IGNORECASE)\n",
    "            if manufactured_date_matches:\n",
    "                manufactured_date = manufactured_date_matches[0]\n",
    "    \n",
    "    return {\n",
    "        \"expiry_date\": expiry_date,\n",
    "        \"manufactured_date\": manufactured_date,\n",
    "        \"mrp\": mrp[0] if mrp else None\n",
    "    }\n"
   ]
  },
  {
   "cell_type": "code",
   "execution_count": 9,
   "id": "66c760f7-044e-4ff0-81b7-0bb5c7d8505b",
   "metadata": {},
   "outputs": [
    {
     "name": "stderr",
     "output_type": "stream",
     "text": [
      "Neither CUDA nor MPS are available - defaulting to CPU. Note: This module is much faster with a GPU.\n",
      "C:\\Users\\DELL\\AppData\\Roaming\\Python\\Python312\\site-packages\\easyocr\\detection.py:78: FutureWarning: You are using `torch.load` with `weights_only=False` (the current default value), which uses the default pickle module implicitly. It is possible to construct malicious pickle data which will execute arbitrary code during unpickling (See https://github.com/pytorch/pytorch/blob/main/SECURITY.md#untrusted-models for more details). In a future release, the default value for `weights_only` will be flipped to `True`. This limits the functions that could be executed during unpickling. Arbitrary objects will no longer be allowed to be loaded via this mode unless they are explicitly allowlisted by the user via `torch.serialization.add_safe_globals`. We recommend you start setting `weights_only=True` for any use case where you don't have full control of the loaded file. Please open an issue on GitHub for any issues related to this experimental feature.\n",
      "  net.load_state_dict(copyStateDict(torch.load(trained_model, map_location=device)))\n",
      "C:\\Users\\DELL\\AppData\\Roaming\\Python\\Python312\\site-packages\\easyocr\\recognition.py:169: FutureWarning: You are using `torch.load` with `weights_only=False` (the current default value), which uses the default pickle module implicitly. It is possible to construct malicious pickle data which will execute arbitrary code during unpickling (See https://github.com/pytorch/pytorch/blob/main/SECURITY.md#untrusted-models for more details). In a future release, the default value for `weights_only` will be flipped to `True`. This limits the functions that could be executed during unpickling. Arbitrary objects will no longer be allowed to be loaded via this mode unless they are explicitly allowlisted by the user via `torch.serialization.add_safe_globals`. We recommend you start setting `weights_only=True` for any use case where you don't have full control of the loaded file. Please open an issue on GitHub for any issues related to this experimental feature.\n",
      "  state_dict = torch.load(model_path, map_location=device)\n"
     ]
    },
    {
     "name": "stdout",
     "output_type": "stream",
     "text": [
      "{'expiry_date': '01-03-2021', 'manufactured_date': '01-03-2021', 'mrp': None}\n"
     ]
    }
   ],
   "source": [
    "def process_image(image_path, use_easyocr=False):\n",
    "    # Preprocess the image\n",
    "    preprocessed_image = preprocess_image(image_path)\n",
    "    \n",
    "    # Extract text using the selected OCR tool\n",
    "    if use_easyocr:\n",
    "        text = extract_text_easyocr(image_path)\n",
    "    else:\n",
    "        text = extract_text_tesseract(preprocessed_image)\n",
    "    \n",
    "    # Post-process the extracted text to find relevant information\n",
    "    result = extract_dates_and_mrp(text)\n",
    "    \n",
    "    return result\n",
    "\n",
    "# Example usage\n",
    "image_path = r'C:\\Users\\DELL\\Documents\\smart_vision_project\\ocr_specified\\image4.jpeg'\n",
    "result = process_image(image_path, use_easyocr=True)\n",
    "print(result)\n"
   ]
  },
  {
   "cell_type": "code",
   "execution_count": null,
   "id": "29fce888-a82c-47e7-bde7-82ca1311e3f5",
   "metadata": {},
   "outputs": [],
   "source": []
  }
 ],
 "metadata": {
  "kernelspec": {
   "display_name": "Python 3 (ipykernel)",
   "language": "python",
   "name": "python3"
  },
  "language_info": {
   "codemirror_mode": {
    "name": "ipython",
    "version": 3
   },
   "file_extension": ".py",
   "mimetype": "text/x-python",
   "name": "python",
   "nbconvert_exporter": "python",
   "pygments_lexer": "ipython3",
   "version": "3.12.4"
  }
 },
 "nbformat": 4,
 "nbformat_minor": 5
}
